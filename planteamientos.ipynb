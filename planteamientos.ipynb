{
 "cells": [
  {
   "cell_type": "markdown",
   "metadata": {},
   "source": [
    "# PLANTEAMIENTOS DE PROBLEMAS\n",
    "\n",
    "## Ejercicios con Julia"
   ]
  },
  {
   "cell_type": "markdown",
   "metadata": {},
   "source": [
    "Una vez que se ha instalado el solver correspondiente **CPLEX** o bien **Gurobi**, podemos comenzar a construir los modelos para los problemas a optimizar.\n",
    "Primero vamos a ver un ejemplo:\n",
    "\n",
    "\n",
    "\\begin{equation*}\n",
    "\\begin{array}{lll}\n",
    "    \\mbox{Maximizar}\n",
    "    & x_1+2x_2+5x_3 &\\\\\n",
    "    \\mbox{sujeto a: }\n",
    "    & -x_1+x_2+3x_3 \\leq -5\\\\\n",
    "    & x_1 +3x_2 -7x_3 \\leq 10\\\\\n",
    "    & 0 \\leq x_1 \\leq 10\\\\\n",
    "    & x_2, x_3 \\geq 0\n",
    "    \\end{array}\n",
    "\\end{equation*}"
   ]
  },
  {
   "cell_type": "code",
   "execution_count": 1,
   "metadata": {},
   "outputs": [],
   "source": [
    "# paquetes necesarios para resolver el modelo\n",
    "using CPLEX, JuMP"
   ]
  },
  {
   "cell_type": "code",
   "execution_count": 2,
   "metadata": {},
   "outputs": [
    {
     "name": "stdout",
     "output_type": "stream",
     "text": [
      "Max x1 + 2 x2 + 5 x3\n",
      "Subject to\n",
      " constraint1 : -x1 + x2 + 3 x3 <= -5.0\n",
      " constraint2 : x1 + 3 x2 - 7 x3 <= 10.0\n",
      " x1 >= 0.0\n",
      " x2 >= 0.0\n",
      " x3 >= 0.0\n",
      " x1 <= 10.0\n",
      "Tried aggregator 1 time.\n",
      "No LP presolve or aggregator reductions.\n",
      "Presolve time = 0.00 sec. (0.00 ticks)\n",
      "\n",
      "Iteration log . . .\n",
      "Iteration:     1   Dual infeasibility =             0.000000\n",
      "Iteration:     2   Dual objective     =            19.062500\n",
      "Optimal Solutions:\n",
      "x1 = 10.0\n",
      "x2 = 2.1875\n",
      "x3 = 0.9375\n"
     ]
    }
   ],
   "source": [
    "# Preparación del modelo a optimizar\n",
    "m = Model(CPLEX.Optimizer)\n",
    "\n",
    "# Declaración de variables\n",
    "@variable(m, 0<= x1 <=10)\n",
    "@variable(m, x2 >=0)\n",
    "@variable(m, x3 >=0)\n",
    "\n",
    "# Construcción de la función objetivo\n",
    "@objective(m, Max, x1 + 2x2 + 5x3)\n",
    "\n",
    "# Restricciones del problema\n",
    "@constraint(m, constraint1, -x1 +  x2 + 3x3 <= -5)\n",
    "@constraint(m, constraint2,  x1 + 3x2 - 7x3 <= 10)\n",
    "\n",
    "# imprimimos el modelo construido\n",
    "print(m)\n",
    "\n",
    "# optimizador del modelo\n",
    "JuMP.optimize!(m)\n",
    "\n",
    "# Impresión de soluciones de las variables para el problema primal\n",
    "println(\"Optimal Solutions:\")\n",
    "println(\"x1 = \", JuMP.value(x1))\n",
    "println(\"x2 = \", JuMP.value(x2))\n",
    "println(\"x3 = \", JuMP.value(x3))"
   ]
  },
  {
   "cell_type": "markdown",
   "metadata": {},
   "source": [
    "La declaración de las tres variables para este problema se hace en las líneas:"
   ]
  },
  {
   "cell_type": "raw",
   "metadata": {},
   "source": [
    "@variable(m, 0<= x1 <=10)\n",
    "@variable(m, x2 >= 0)\n",
    "@variable(m, x3 >= 0)"
   ]
  },
  {
   "cell_type": "markdown",
   "metadata": {},
   "source": [
    "Al estar utilizando el símbolo de @, se esta haciendo uso de una especie de 'macros' implementada en el paquete JuMP.\n",
    "\n",
    "También para la construcción de la función objetivo se utiliza la macro llamada @objetive, la cual recibe las siguientes entradas:\n",
    "\n",
    "`@objetive(modelo,Max/Min,variables)`"
   ]
  },
  {
   "cell_type": "raw",
   "metadata": {},
   "source": [
    "@objective(m, Max, x1 + 2x2 + 5x3)"
   ]
  },
  {
   "cell_type": "markdown",
   "metadata": {},
   "source": [
    "Para el caso de nuestro ejemplo, tenemos dos restricciones que construimos utilizando la macros **constraint**, la cual recibe los parámetros:\n",
    "\n",
    "`@constraint(modelo, nombre de restriccción, restriccion)`\n",
    "\n",
    "La colocación de los nombres son recomendados cuando se manejan un número pequeño de restricciones, cuando se colocan de manera general, en esa entrada se puede colocar lo siguiente:\n",
    "\n",
    "`[i=1:m]` donde m es el número de restricciones o bien el número de renglones de la matriz de restricciones."
   ]
  },
  {
   "cell_type": "raw",
   "metadata": {},
   "source": [
    "@constraint(m, constraint1, -x1 +  x2 + 3x3 <= -5)\n",
    "@constraint(m, constraint2,  x1 + 3x2 - 7x3 <= 10)"
   ]
  },
  {
   "cell_type": "markdown",
   "metadata": {},
   "source": [
    "Si fuera necesario checar por última vez que el modelo construido esta bien escrito, podemos imprimirlo mediante la siguiente línea."
   ]
  },
  {
   "cell_type": "raw",
   "metadata": {},
   "source": [
    "print(m)"
   ]
  },
  {
   "cell_type": "markdown",
   "metadata": {},
   "source": [
    "Y finalmente que checamos que el modelo estuvo bien escrito, resolvemos el problema de optimización."
   ]
  },
  {
   "cell_type": "raw",
   "metadata": {},
   "source": [
    "JuMP.optimize!(m) # o bien puede ser la de abajo\n",
    "optimize!(m)\n"
   ]
  },
  {
   "cell_type": "markdown",
   "metadata": {},
   "source": [
    "Para obtener los valores de las variables del problema se utiliza la función `JuMP.value()`:"
   ]
  },
  {
   "cell_type": "raw",
   "metadata": {},
   "source": [
    "println(\"Soluciones óptimas para las variables primales:\")\n",
    "println(\"x1 = \", JuMP.value(x1))\n",
    "println(\"x2 = \", JuMP.value(x2))\n",
    "println(\"x3 = \", JuMP.value(x3))"
   ]
  },
  {
   "cell_type": "markdown",
   "metadata": {},
   "source": [
    "Si se desea usar el optimizador Gurobi, entonces se utiliza la siguiente línea que inicializa un modelo de la clase Gurobi."
   ]
  },
  {
   "cell_type": "raw",
   "metadata": {},
   "source": [
    "using JuMP, Gurobi\n",
    "m = Model(Gurobi.Optimizer)"
   ]
  },
  {
   "cell_type": "markdown",
   "metadata": {},
   "source": [
    "## Ejemplo 1.  \n",
    "\n",
    "  El laboratorio de Wonka requiere de las materias primas I y II para producir dos soluciones de caramelo, A y B. Las disponibilidades diarias de las materias primas I y II son de 150 y 145 uniddes, respectivamente.\n",
    "  \n",
    " Una unidad de solución A consume 0.5 unidades de la materia prima I y 0.6 unidades de la materia prima II, en tanto una unidad de la solución B consume 0.5 unidades de la materia prima I y 0.4 unidades de la materia prima II. Las ganancias por cada unidad vendida del caramelo A son de 8 pesos y del caramelo B son de 10 pesos. La demanda diaria de la solución A es de entre 30 y 150 unidades, y la demanda de la solución B son de 40 a 200 unidades. Determinar las cantidades de producción óptimas de A y B."
   ]
  },
  {
   "cell_type": "markdown",
   "metadata": {},
   "source": [
    "La solución del problema queda planteado como:\n",
    "\n",
    "**Variables**:\n",
    "\n",
    "$x_i$= unidades de la solución i (i=A,B)\n",
    "\n",
    "**Función objetivo y restricciones:**\n",
    "\n",
    "\\begin{equation*}\n",
    "\\begin{array}{lll}\n",
    "    \\mbox{Maximizar}\n",
    "    & 8x_1+10x_2 &\\\\\n",
    "    \\mbox{sujeto a: }\n",
    "    & 0.5x_1+ 0.5x_2 \\leq 150\\\\\n",
    "    & 0.6x_1 + 0.4x_2 \\leq 145\\\\\n",
    "    & 30 \\leq x_1 \\leq 150\\\\\n",
    "    & 40 \\leq x_2 \\leq 200\\\\\n",
    "    & x_1,x_2 \\geq 0\n",
    "    \\end{array}\n",
    "\\end{equation*}\n"
   ]
  },
  {
   "cell_type": "markdown",
   "metadata": {},
   "source": [
    "### Alternativa rápida de escribir el problema 1\n",
    "\n",
    "Para el primer ejemplo, teníamos 3 variables de decisión, lo cual podemos escribir de manera general con un vector de 3 dimensiones:"
   ]
  },
  {
   "cell_type": "raw",
   "metadata": {},
   "source": [
    "@variable(m, x[1:3] >= 0)"
   ]
  },
  {
   "cell_type": "markdown",
   "metadata": {},
   "source": [
    "Entonces podemos ver la función objetivo como la suma producto de un vector x de variables por un vector columna de costos c."
   ]
  },
  {
   "cell_type": "raw",
   "metadata": {},
   "source": [
    "c = [1; 2; 5]\n",
    "@objective(m, Max, sum( c[i]*x[i] for i in 1:3))"
   ]
  },
  {
   "cell_type": "markdown",
   "metadata": {},
   "source": [
    "Y las restricciones pueden verse como la multiplicación de una matriz A por el vector x de variables, esto es menor igual o mayor igual a un vector columna b que representa el vector de recursos."
   ]
  },
  {
   "cell_type": "raw",
   "metadata": {},
   "source": [
    "A = [-1  1  3;\n",
    "      1  3 -7]\n",
    "b = [-5; 10]\n",
    "@constraint(m, constraint1, sum( A[1,i]*x[i] for i in 1:3) <= b[1] )\n",
    "@constraint(m, constraint2, sum( A[2,i]*x[i] for i in 1:3) <= b[2] )"
   ]
  },
  {
   "cell_type": "markdown",
   "metadata": {},
   "source": [
    "Pero que sucedería si tenemos más de 20 restricciones?! se vuelve poco óptimo meter cada restricción, por lo tanto podemos generalizar haciendo lo siguiente:"
   ]
  },
  {
   "cell_type": "raw",
   "metadata": {},
   "source": [
    "@constraint(m, constraint[j in 1:2], sum(A[j,i]*x[i] for i in 1:3) <= b[j])"
   ]
  },
  {
   "cell_type": "markdown",
   "metadata": {},
   "source": [
    "Finalmente se añade la restricción que tiene la variable 1."
   ]
  },
  {
   "cell_type": "raw",
   "metadata": {},
   "source": [
    "@constraint(m, bound, x[1] <= 10)"
   ]
  },
  {
   "cell_type": "markdown",
   "metadata": {},
   "source": [
    "Se añade todo esto en un solo bloque:\n"
   ]
  },
  {
   "cell_type": "raw",
   "metadata": {},
   "source": [
    "using JuMP, CPLEX\n",
    "m = Model(CPLEX.Optimizer)\n",
    "\n",
    "c = [ 1; 2; 5]\n",
    "A = [-1  1  3;\n",
    "      1  3 -7]\n",
    "b = [-5; 10]\n",
    "\n",
    "@variable(m, x[1:3] >= 0)\n",
    "@objective(m, Max, sum( c[i]*x[i] for i in 1:3) )\n",
    "\n",
    "@constraint(m, constraint[j in 1:2], sum( A[j,i]*x[i] for i in 1:3 ) <= b[j] )\n",
    "@constraint(m, bound, x[1] <= 10)\n",
    "\n",
    "JuMP.optimize!(m)\n",
    "\n",
    "\n",
    "println(\"Soluciones optimas:\")\n",
    "for i in 1:3\n",
    "  println(\"x[$i] = \", JuMP.value(x[i]))\n",
    "end\n"
   ]
  },
  {
   "cell_type": "markdown",
   "metadata": {},
   "source": [
    "O bien podemos escribirlo de la siguiente manera:"
   ]
  },
  {
   "cell_type": "raw",
   "metadata": {},
   "source": [
    "using JuMP, CPLEX\n",
    "\n",
    "c = [ 1; 2; 5]\n",
    "A = [-1  1  3;\n",
    "      1  3 -7]\n",
    "b = [-5; 10]\n",
    "\n",
    "model = Model(CPLEX.Optimizer)\n",
    "\n",
    "m = size(A,1) # número de renglones de A\n",
    "n = size(A,2) # número de columnas de A\n",
    "\n",
    "@variable(model,0 <= x[1:n])\n",
    "@objective(model,Max,sum(c[j]*x[j] for j in 1:n))\n",
    "@constraint(model,[i=1:m],sum(A[i,j]*x[j] for j = 1:n) <= b[i])\n",
    "\n",
    "JuMP.optimize!(model)\n",
    "\n",
    "\n",
    "println(\"Soluciones optimas:\")\n",
    "for i in 1:3\n",
    "  println(\"x[$i] = \", JuMP.value(x[i]))\n",
    "end\n"
   ]
  },
  {
   "cell_type": "markdown",
   "metadata": {},
   "source": [
    "De manera general para un problema del siguiente estilo"
   ]
  },
  {
   "cell_type": "markdown",
   "metadata": {},
   "source": [
    "\\begin{equation*}\n",
    "\\begin{array}{lll}\n",
    "    \\mbox{Maximizar}\n",
    "    & \\sum_{i=1}^{n} x_i &\\\\\n",
    "    \\mbox{sujeto a: }\n",
    "    & Ax \\leq b \\\\\n",
    "    & \\forall x_i \\geq 0; & i= 1, \\ldots, n\n",
    "    \\end{array}\n",
    "\\end{equation*}"
   ]
  },
  {
   "cell_type": "code",
   "execution_count": null,
   "metadata": {},
   "outputs": [],
   "source": []
  },
  {
   "cell_type": "code",
   "execution_count": null,
   "metadata": {},
   "outputs": [],
   "source": []
  }
 ],
 "metadata": {
  "kernelspec": {
   "display_name": "Julia 1.4.0",
   "language": "julia",
   "name": "julia-1.4"
  },
  "language_info": {
   "file_extension": ".jl",
   "mimetype": "application/julia",
   "name": "julia",
   "version": "1.4.0"
  }
 },
 "nbformat": 4,
 "nbformat_minor": 4
}
